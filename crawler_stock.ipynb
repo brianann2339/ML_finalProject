{
 "cells": [
  {
   "cell_type": "markdown",
   "metadata": {},
   "source": [
    "# 爬股票資料\n",
    "執行後可以選擇要爬股票的日期\n",
    "如圖\n",
    "<img src=\"picture_2.png\"  style=\"width: 800px;\"/>"
   ]
  },
  {
   "cell_type": "code",
   "execution_count": 3,
   "metadata": {},
   "outputs": [
    {
     "data": {
      "application/vnd.jupyter.widget-view+json": {
       "model_id": "9213b44c47934b089a61f000b45f6ac6",
       "version_major": 2,
       "version_minor": 0
      },
      "text/plain": [
       "VBox(children=(Label(value='price (No table found)(對於finance_statement是正常情況)'), HBox(children=(DatePicker(valu…"
      ]
     },
     "metadata": {},
     "output_type": "display_data"
    },
    {
     "name": "stdout",
     "output_type": "stream",
     "text": [
      "start crawl price from  2019-05-10 to 2019-05-22\n"
     ]
    },
    {
     "data": {
      "application/vnd.jupyter.widget-view+json": {
       "model_id": "20cf6e064b3241cc8a7f32d5a505854f",
       "version_major": 2,
       "version_minor": 0
      },
      "text/plain": [
       "HBox(children=(IntProgress(value=0, max=13), HTML(value='')))"
      ]
     },
     "metadata": {},
     "output_type": "display_data"
    },
    {
     "name": "stdout",
     "output_type": "stream",
     "text": [
      "crawling 2019-05-10\n",
      "success\n",
      "crawling 2019-05-11\n",
      "fail, check if it is a holiday\n",
      "crawling 2019-05-12\n",
      "fail, check if it is a holiday\n",
      "crawling 2019-05-13\n",
      "success\n",
      "crawling 2019-05-14\n",
      "success\n",
      "crawling 2019-05-15\n",
      "success\n",
      "crawling 2019-05-16\n",
      "success\n",
      "crawling 2019-05-17\n",
      "success\n",
      "crawling 2019-05-18\n",
      "fail, check if it is a holiday\n",
      "crawling 2019-05-19\n",
      "fail, check if it is a holiday\n",
      "crawling 2019-05-20\n",
      "success\n"
     ]
    }
   ],
   "source": [
    "from document.crawler import (\n",
    "    widget, \n",
    "    \n",
    "    crawl_price, \n",
    "    crawl_monthly_report, \n",
    "    crawl_finance_statement_by_date,\n",
    "    \n",
    "    date_range, month_range, season_range\n",
    ")\n",
    "\n",
    "import sqlite3\n",
    "import os\n",
    "conn = sqlite3.connect(os.path.join('data', \"data.db\"))\n",
    "\n",
    "widget(conn, 'price', crawl_price, date_range)"
   ]
  },
  {
   "cell_type": "code",
   "execution_count": null,
   "metadata": {},
   "outputs": [],
   "source": []
  }
 ],
 "metadata": {
  "kernelspec": {
   "display_name": "Python (tensorflowgpu)",
   "language": "python",
   "name": "tensorflowgpu"
  },
  "language_info": {
   "codemirror_mode": {
    "name": "ipython",
    "version": 3
   },
   "file_extension": ".py",
   "mimetype": "text/x-python",
   "name": "python",
   "nbconvert_exporter": "python",
   "pygments_lexer": "ipython3",
   "version": "3.5.5"
  }
 },
 "nbformat": 4,
 "nbformat_minor": 2
}
