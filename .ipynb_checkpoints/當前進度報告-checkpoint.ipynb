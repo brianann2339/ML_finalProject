{
 "cells": [
  {
   "cell_type": "markdown",
   "metadata": {},
   "source": [
    "# 主題 : 台灣股票爬蟲利用LSTM分析股票趨勢\n",
    "\n",
    "\n",
    "\n",
    "##  組員 : 莊家焮 楊竣翔\n",
    "\n",
    "\n",
    "\n",
    "##  介紹 : \n",
    " \n",
    "爬台灣股票 ( http://www.twse.com.tw/zh/ )2012/01/02到2019/05/10，總共有1689044筆資料 (1689044 rows × 15 columns)\n",
    "\n",
    "資料dataframe呈現如下圖:\n",
    "\n",
    "<img src=\"picture_6.png\"  style=\"width: 1000px;\"/>\n",
    "\n",
    "\n",
    "\n",
    "將爬到的資料分成 訓練 測試\n",
    "\n",
    "training data 是2012~2016年底 共5年\n",
    "\n",
    "texting data 是2017~2019/5/10\n",
    "\n",
    "之後用LSTM做股票趨勢"
   ]
  },
  {
   "cell_type": "markdown",
   "metadata": {},
   "source": [
    "## 實作方法 :\n",
    "主要寫兩個.py \n",
    "\n",
    "爬股票資料 : crawel_stock.py  \n",
    "\n",
    "股票趨勢分析 : final project.py\n",
    "\n",
    "* 可以讓使用者輸入想看的股票代碼\n",
    "\n",
    "* 有下拉式選單讓使用者選其股票的 '開盤價' '最高價''最低價''收盤價' 的未來趨勢\n",
    "\n",
    "以下會說明 爬股票資料 、 股票趨勢分析 、 LSTM 預測 以大立光股票(股票代碼 : 3008)的結果作說明      \n",
    "\n",
    "\n",
    "###          爬股票資料\n",
    "\n",
    "\n",
    "股票資料是爬http://www.twse.com.tw/zh/\n",
    "\n",
    "crawel_stock.py 用來爬股票資料 使用者可以選日期\n",
    "\n",
    "<img src=\"picture_2.png\"  style=\"width: 800px;\"/>\n",
    "\n",
    "股票資料會存到 data.db\n",
    "\n",
    "\n",
    "\n",
    "###          股票趨勢分析\n",
    "\n",
    "final project.py 用來將股票資料讀入\n",
    "\n",
    "\n",
    "使用者輸入想看的股票代碼\n",
    "\n",
    "有下拉式選單讓使用者選其股票的 '開盤價' '最高價''最低價''收盤價' 的未來趨勢\n",
    "\n",
    "<img src=\"picture_1.png\"  style=\"width: 400px;\"/>\n",
    "\n",
    "並做LSTM分析股票趨勢\n",
    "\n",
    "做4層 每一層50 unit Drop 0.2\n",
    "\n",
    "compile : optimizer = 'adam'  , loss = 'mean_squared_error'\n",
    "\n",
    "fit : epochs = 100, batch_size = 32\n",
    "\n",
    "\n",
    "###          LSTM 預測 大立光股票(股票代碼 : 3008)的結果    \n",
    "\n",
    "<img src=\"picture_5.png\"  style=\"width: 400px;\"/>"
   ]
  },
  {
   "cell_type": "markdown",
   "metadata": {},
   "source": [
    "# 專案排程 :\n",
    "<img src=\"picture_4.png\"  style=\"width: 1000px;\"/>"
   ]
  },
  {
   "cell_type": "markdown",
   "metadata": {},
   "source": [
    "# 目前進度 :\n",
    "\n",
    "目前已做完爬台灣股票及LSTM分析\n",
    "\n",
    "之後會改變參數或模型來看看其他結果"
   ]
  }
 ],
 "metadata": {
  "kernelspec": {
   "display_name": "Python (tensorflowgpu)",
   "language": "python",
   "name": "tensorflowgpu"
  },
  "language_info": {
   "codemirror_mode": {
    "name": "ipython",
    "version": 3
   },
   "file_extension": ".py",
   "mimetype": "text/x-python",
   "name": "python",
   "nbconvert_exporter": "python",
   "pygments_lexer": "ipython3",
   "version": "3.5.5"
  }
 },
 "nbformat": 4,
 "nbformat_minor": 2
}
