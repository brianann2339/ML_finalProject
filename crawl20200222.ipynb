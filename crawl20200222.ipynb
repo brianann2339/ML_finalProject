{
 "cells": [
  {
   "cell_type": "code",
   "execution_count": 21,
   "metadata": {},
   "outputs": [
    {
     "name": "stdout",
     "output_type": "stream",
     "text": [
      "ok\n",
      "武漢肺炎第24例住哪？ 柯文哲：不公開反引起更多恐慌\n",
      "武漢肺炎救了面臨罷免的韓國瑜？ 柯文哲：政治方面會較冷靜\n",
      "柯文哲籲公布案24地點陳時中：地方政府不會不知道| 政治\n",
      "反駁陳時中24例「地方不會不知道」 柯文哲：我就不知道！ | 政治\n",
      "公布個案資訊掀論戰 陳時中說不 柯文哲：不公開更恐慌\n",
      "北市公布居家檢疫失聯男 柯文哲：胡析延出來面對\n",
      "柯文哲明出席黨校活動 將派心腹任黨副祕書長\n",
      "武漢肺炎》柯文哲：相關資訊應該公開- 影音精選\n",
      "武漢肺炎救罷韓？柯文哲突破盲點回應\n",
      "《陳冠甫專欄》柯文哲撂話「我就是瘋子」就能強推警察局合併案？\n"
     ]
    }
   ],
   "source": [
    "import requests\n",
    "from bs4 import BeautifulSoup\n",
    "from urllib.parse import quote\n",
    "import urllib\n",
    "\n",
    "year=\"2019\"\n",
    "month = \"10\"\n",
    "date=\"1\"\n",
    "\n",
    "\n",
    "keyword = quote(\"柯文哲\".encode(\"utf8\"))\n",
    "\n",
    "www = \"https://www.google.com/search?q=\"+keyword+\"&biw=1375&bih=632&source=lnt&tbs=cdr%3A1%2Ccd_min%3A\"+month+\"%2F\"+date+\"%2F\"+year+\"%2Ccd_max%3A\"+month+\"%2F\"+date+\"%2F\"+year+\"&tbm=nws\"\n",
    "\n",
    "r = requests.get(www)\n",
    "if r.status_code == requests.codes.ok:\n",
    "    soup = BeautifulSoup(r.text,\"html.parser\")\n",
    "    print(\"ok\")\n",
    "    \n",
    "items = soup.find_all(\"div\",class_=\"kCrYT\")\n",
    "\n",
    "sel = soup.findAll(\"div\",class_=\"BNeawe vvjwJb AP7Wnd\")\n",
    "for s in sel:\n",
    "    print(s.text)"
   ]
  },
  {
   "cell_type": "code",
   "execution_count": 22,
   "metadata": {},
   "outputs": [
    {
     "data": {
      "text/plain": [
       "'https://www.google.com/search?q=%E6%9F%AF%E6%96%87%E5%93%B2&biw=1375&bih=632&source=lnt&tbs=cdr%3A1%2Ccd_min%3A10%2F1%2F2019%2Ccd_max%3A10%2F1%2F2019&tbm=nws'"
      ]
     },
     "execution_count": 22,
     "metadata": {},
     "output_type": "execute_result"
    }
   ],
   "source": [
    "www"
   ]
  },
  {
   "cell_type": "code",
   "execution_count": null,
   "metadata": {},
   "outputs": [],
   "source": []
  }
 ],
 "metadata": {
  "kernelspec": {
   "display_name": "Python (tensorflowgpu)",
   "language": "python",
   "name": "tensorflowgpu"
  },
  "language_info": {
   "codemirror_mode": {
    "name": "ipython",
    "version": 3
   },
   "file_extension": ".py",
   "mimetype": "text/x-python",
   "name": "python",
   "nbconvert_exporter": "python",
   "pygments_lexer": "ipython3",
   "version": "3.5.5"
  }
 },
 "nbformat": 4,
 "nbformat_minor": 2
}
