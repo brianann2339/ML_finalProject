{
 "cells": [
  {
   "cell_type": "markdown",
   "metadata": {},
   "source": [
    "# 爬股票資料\n",
    "\n",
    "crawel_stock.py 用來爬股票資料 使用者可以選日期\n",
    "\n",
    "<img src=\"picture_2.png\"  style=\"width: 800px;\"/>\n",
    "\n",
    "股票資料會存到 data.db"
   ]
  },
  {
   "cell_type": "markdown",
   "metadata": {},
   "source": [
    "# 股票趨勢分析\n",
    "\n",
    "final project.py 用來將股票資料讀入\n",
    "\n",
    "並做LSTM分析股票趨勢\n",
    "\n",
    "使用者輸入想看的股票代碼\n",
    "\n",
    "有下拉式選單讓使用者選其股票的 '開盤價' '最高價''最低價''收盤價' 的未來趨勢\n",
    "\n",
    "<img src=\"picture_1.png\"  style=\"width: 400px;\"/>"
   ]
  },
  {
   "cell_type": "code",
   "execution_count": null,
   "metadata": {},
   "outputs": [],
   "source": []
  }
 ],
 "metadata": {
  "kernelspec": {
   "display_name": "Python (tensorflowgpu)",
   "language": "python",
   "name": "tensorflowgpu"
  },
  "language_info": {
   "codemirror_mode": {
    "name": "ipython",
    "version": 3
   },
   "file_extension": ".py",
   "mimetype": "text/x-python",
   "name": "python",
   "nbconvert_exporter": "python",
   "pygments_lexer": "ipython3",
   "version": "3.5.5"
  }
 },
 "nbformat": 4,
 "nbformat_minor": 2
}
